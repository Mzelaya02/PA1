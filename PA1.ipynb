{
 "cells": [
  {
   "cell_type": "markdown",
   "id": "e25fb393",
   "metadata": {},
   "source": [
    "# Computer Programming for the Liberal Arts\n",
    "## Michael Zelaya\n",
    "## Assignment 1- Version 1"
   ]
  },
  {
   "cell_type": "markdown",
   "id": "0fec2e5e",
   "metadata": {},
   "source": [
    "## Getting started with markdown"
   ]
  },
  {
   "cell_type": "markdown",
   "id": "e006fd5e",
   "metadata": {},
   "source": [
    ">CS150"
   ]
  },
  {
   "cell_type": "markdown",
   "id": "b1ac1099",
   "metadata": {},
   "source": [
    "* Module 1 – Variables and Simple Data Types\n",
    "* Module 2 – Introducing Lists, Tuples\n",
    "* Module 3 – if Statements\n",
    "* Module 4 – Dictionaries\n",
    "* Module 5 – While Loops\n",
    "* Module 6 – Functions\n",
    "* Module 7 – Classes\n",
    "* Module 8 – Numpy"
   ]
  },
  {
   "cell_type": "markdown",
   "id": "552de5f6",
   "metadata": {},
   "source": [
    "1. Assignment 1\n",
    "2. Assignment 2\n",
    "3. Assignment 3 \n",
    "4. Assingment 4\n",
    "5. Assignment 5\n",
    "6. Assignment 6\n",
    "7. Assingment 7"
   ]
  },
  {
   "cell_type": "markdown",
   "id": "e88bc689",
   "metadata": {},
   "source": [
    "**These are bold words**"
   ]
  },
  {
   "cell_type": "markdown",
   "id": "bb3af0d1",
   "metadata": {},
   "source": [
    "*These are italic words*"
   ]
  },
  {
   "cell_type": "markdown",
   "id": "5a5a6a9b",
   "metadata": {},
   "source": [
    "`Module 1 – Variables and Simple Data Types`"
   ]
  },
  {
   "attachments": {},
   "cell_type": "markdown",
   "id": "e6725260",
   "metadata": {},
   "source": [
    "<a href=\"https://github.com/Mzelaya02\">Link</a>"
   ]
  },
  {
   "attachments": {},
   "cell_type": "markdown",
   "id": "b8f50eee",
   "metadata": {},
   "source": [
    "![Man City](https://upload.wikimedia.org/wikipedia/en/thumb/e/eb/Manchester_City_FC_badge.svg/1200px-Manchester_City_FC_badge.svg.png)"
   ]
  },
  {
   "cell_type": "code",
   "execution_count": null,
   "id": "a25814f6",
   "metadata": {},
   "outputs": [],
   "source": []
  }
 ],
 "metadata": {
  "kernelspec": {
   "display_name": "Python 3 (ipykernel)",
   "language": "python",
   "name": "python3"
  },
  "language_info": {
   "codemirror_mode": {
    "name": "ipython",
    "version": 3
   },
   "file_extension": ".py",
   "mimetype": "text/x-python",
   "name": "python",
   "nbconvert_exporter": "python",
   "pygments_lexer": "ipython3",
   "version": "3.9.13"
  }
 },
 "nbformat": 4,
 "nbformat_minor": 5
}
